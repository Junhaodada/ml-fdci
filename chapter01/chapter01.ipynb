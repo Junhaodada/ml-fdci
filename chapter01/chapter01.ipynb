{
 "cells": [
  {
   "cell_type": "markdown",
   "id": "f19ec906-6730-4aa6-ba25-d572ca029bf5",
   "metadata": {},
   "source": [
    "## numpy知识点"
   ]
  },
  {
   "cell_type": "code",
   "execution_count": 63,
   "id": "d798562a-81fb-4f1e-9c7d-3a24ebf98cc6",
   "metadata": {},
   "outputs": [
    {
     "data": {
      "text/plain": [
       "'1.24.3'"
      ]
     },
     "execution_count": 63,
     "metadata": {},
     "output_type": "execute_result"
    }
   ],
   "source": [
    "import numpy as np\n",
    "np.__version__"
   ]
  },
  {
   "cell_type": "markdown",
   "id": "191bc59a-9d96-4dfe-83d3-9fa3e5386d59",
   "metadata": {},
   "source": [
    "### 创建数组"
   ]
  },
  {
   "cell_type": "code",
   "execution_count": 64,
   "id": "1985e361-d76e-4853-9e40-5177cbb70577",
   "metadata": {},
   "outputs": [
    {
     "data": {
      "text/plain": [
       "array([1, 2, 3])"
      ]
     },
     "execution_count": 64,
     "metadata": {},
     "output_type": "execute_result"
    }
   ],
   "source": [
    "# 创建数组\n",
    "a = np.array([1, 2, 3])\n",
    "a"
   ]
  },
  {
   "cell_type": "code",
   "execution_count": 65,
   "id": "8d22252b-16cc-4b47-94e0-1dde9772f41a",
   "metadata": {},
   "outputs": [
    {
     "data": {
      "text/plain": [
       "dtype('int32')"
      ]
     },
     "execution_count": 65,
     "metadata": {},
     "output_type": "execute_result"
    }
   ],
   "source": [
    "# 查看类型\n",
    "a.dtype"
   ]
  },
  {
   "cell_type": "code",
   "execution_count": 66,
   "id": "62719385-6d84-4bbc-9807-a59b91a89bc8",
   "metadata": {},
   "outputs": [
    {
     "data": {
      "text/plain": [
       "dtype('float64')"
      ]
     },
     "execution_count": 66,
     "metadata": {},
     "output_type": "execute_result"
    }
   ],
   "source": [
    "b = np.array([1.2, 2.3, 3.4])\n",
    "b.dtype"
   ]
  },
  {
   "cell_type": "code",
   "execution_count": 67,
   "id": "6cbbff2f-5c90-4af4-a0d9-d8373d0058ac",
   "metadata": {},
   "outputs": [
    {
     "data": {
      "text/plain": [
       "array([[1, 2, 3],\n",
       "       [4, 5, 6]])"
      ]
     },
     "execution_count": 67,
     "metadata": {},
     "output_type": "execute_result"
    }
   ],
   "source": [
    "# 转换多维数组\n",
    "c = np.array([[1,2,3],[4,5,6]])\n",
    "c"
   ]
  },
  {
   "cell_type": "code",
   "execution_count": 68,
   "id": "0c3e53d6-2617-40e0-b5c5-5b3f265146cb",
   "metadata": {},
   "outputs": [
    {
     "data": {
      "text/plain": [
       "array([10, 15, 20, 25])"
      ]
     },
     "execution_count": 68,
     "metadata": {},
     "output_type": "execute_result"
    }
   ],
   "source": [
    "# 生成2×3的全0数组\n",
    "np.zeros((2, 3))\n",
    "\n",
    "# 生成3×4的全1数组\n",
    "np.ones((3, 4), dtype=np.int16)\n",
    "\n",
    "# 生成2×3未初始化的随机数数组\n",
    "np.empty([2, 3])\n",
    "\n",
    "# arange方法用于创建给定范围内的数组\n",
    "np.arange(10, 30, 5)"
   ]
  },
  {
   "cell_type": "markdown",
   "id": "64df8a12-bb50-4313-8b98-185b1eff2561",
   "metadata": {},
   "source": [
    "随机数\n",
    "- rand方法用于生成符合(0,1)均匀分布的随机数数组\n",
    "- randint方法用于生成指定范围内固定长度的整数数组\n",
    "- randn用于生成符合标准正态分布的随机数数组"
   ]
  },
  {
   "cell_type": "code",
   "execution_count": 69,
   "id": "7c2f51f0-58ba-4041-9c10-9e2eddda657f",
   "metadata": {},
   "outputs": [
    {
     "data": {
      "text/plain": [
       "array([[0.90425789, 0.43212937],\n",
       "       [0.69378173, 0.62693778],\n",
       "       [0.12211495, 0.89406287]])"
      ]
     },
     "execution_count": 69,
     "metadata": {},
     "output_type": "execute_result"
    }
   ],
   "source": [
    "np.random.rand(3,2)"
   ]
  },
  {
   "cell_type": "code",
   "execution_count": 70,
   "id": "d1e836a2-cd9f-4592-9ae4-19d293aed20b",
   "metadata": {},
   "outputs": [
    {
     "data": {
      "text/plain": [
       "array([1, 2, 1, 0, 2])"
      ]
     },
     "execution_count": 70,
     "metadata": {},
     "output_type": "execute_result"
    }
   ],
   "source": [
    "np.random.randint(3,size=5)"
   ]
  },
  {
   "cell_type": "markdown",
   "id": "cbe136f6-4b51-4bff-98bb-dd1a629e1e6c",
   "metadata": {},
   "source": [
    "### 数组的索引与切片"
   ]
  },
  {
   "cell_type": "code",
   "execution_count": 71,
   "id": "f943fb00",
   "metadata": {},
   "outputs": [
    {
     "data": {
      "text/plain": [
       "array([81, 64, 49, 36, 25, 16,  9,  4,  1,  0])"
      ]
     },
     "execution_count": 71,
     "metadata": {},
     "output_type": "execute_result"
    }
   ],
   "source": [
    "# 一维数组索引\n",
    "a = np.arange(10)**2\n",
    "a[2]\n",
    "a[1:4]\n",
    "a[::-1]"
   ]
  },
  {
   "cell_type": "code",
   "execution_count": 72,
   "id": "a261d4ca",
   "metadata": {},
   "outputs": [
    {
     "data": {
      "text/plain": [
       "array([[0.80030339, 0.11693454, 0.93679286],\n",
       "       [0.5993018 , 0.31600583, 0.17010398],\n",
       "       [0.11630448, 0.30027634, 0.02513427]])"
      ]
     },
     "execution_count": 72,
     "metadata": {},
     "output_type": "execute_result"
    }
   ],
   "source": [
    "b = np.random.random((3,3))\n",
    "b"
   ]
  },
  {
   "cell_type": "code",
   "execution_count": 73,
   "id": "418f957d-2049-4cd9-83f5-7ec03efdafec",
   "metadata": {},
   "outputs": [
    {
     "data": {
      "text/plain": [
       "0.1701039780332788"
      ]
     },
     "execution_count": 73,
     "metadata": {},
     "output_type": "execute_result"
    }
   ],
   "source": [
    "b[1,2]"
   ]
  },
  {
   "cell_type": "code",
   "execution_count": 74,
   "id": "304d8ec8-e469-477b-9736-80ef1a49bf41",
   "metadata": {},
   "outputs": [
    {
     "data": {
      "text/plain": [
       "array([0.11693454, 0.31600583, 0.30027634])"
      ]
     },
     "execution_count": 74,
     "metadata": {},
     "output_type": "execute_result"
    }
   ],
   "source": [
    "b[:,1]"
   ]
  },
  {
   "cell_type": "markdown",
   "id": "637cd359-9cca-4117-ad16-f30a85ad2882",
   "metadata": {},
   "source": [
    "### 数组运算\n",
    "- 基本运算\n",
    "- 线性代数"
   ]
  },
  {
   "cell_type": "code",
   "execution_count": 75,
   "id": "936812cb-3489-494a-8678-be4f1e2afcc8",
   "metadata": {},
   "outputs": [
    {
     "data": {
      "text/plain": [
       "array([ 5,  9, 13, 17])"
      ]
     },
     "execution_count": 75,
     "metadata": {},
     "output_type": "execute_result"
    }
   ],
   "source": [
    "a = np.arange(4)\n",
    "b = np.array([5,10,15,20])\n",
    "b-a"
   ]
  },
  {
   "cell_type": "code",
   "execution_count": 76,
   "id": "0ff76298-4a4d-4db7-b155-a33389b7c301",
   "metadata": {},
   "outputs": [
    {
     "data": {
      "text/plain": [
       "array([ 25, 100, 225, 400])"
      ]
     },
     "execution_count": 76,
     "metadata": {},
     "output_type": "execute_result"
    }
   ],
   "source": [
    "b**2"
   ]
  },
  {
   "cell_type": "code",
   "execution_count": 77,
   "id": "7ea88fb7-cb20-47ac-b773-9428e99d4c7c",
   "metadata": {},
   "outputs": [
    {
     "data": {
      "text/plain": [
       "array([0.        , 0.84147098, 0.90929743, 0.14112001])"
      ]
     },
     "execution_count": 77,
     "metadata": {},
     "output_type": "execute_result"
    }
   ],
   "source": [
    "np.sin(a)"
   ]
  },
  {
   "cell_type": "code",
   "execution_count": 78,
   "id": "99282b57-a9ee-47bf-9539-202db7b0a953",
   "metadata": {},
   "outputs": [
    {
     "data": {
      "text/plain": [
       "array([ True,  True,  True, False])"
      ]
     },
     "execution_count": 78,
     "metadata": {},
     "output_type": "execute_result"
    }
   ],
   "source": [
    "b<20"
   ]
  },
  {
   "cell_type": "code",
   "execution_count": 79,
   "id": "d77a41d9-6f4b-4240-b05f-ad92f422e63d",
   "metadata": {},
   "outputs": [
    {
     "data": {
      "text/plain": [
       "12.5"
      ]
     },
     "execution_count": 79,
     "metadata": {},
     "output_type": "execute_result"
    }
   ],
   "source": [
    "np.mean(b)"
   ]
  },
  {
   "cell_type": "code",
   "execution_count": 80,
   "id": "6d7d251b-bff1-483e-8154-4d0b87eb3141",
   "metadata": {},
   "outputs": [
    {
     "data": {
      "text/plain": [
       "31.25"
      ]
     },
     "execution_count": 80,
     "metadata": {},
     "output_type": "execute_result"
    }
   ],
   "source": [
    "np.var(b)"
   ]
  },
  {
   "cell_type": "code",
   "execution_count": 81,
   "id": "22a98c95-8462-451c-b0bd-bbc0d081a014",
   "metadata": {},
   "outputs": [
    {
     "data": {
      "text/plain": [
       "12.5"
      ]
     },
     "execution_count": 81,
     "metadata": {},
     "output_type": "execute_result"
    }
   ],
   "source": [
    "np.median(b)"
   ]
  },
  {
   "cell_type": "code",
   "execution_count": 82,
   "id": "b2ed9a57-9e82-408c-a72d-4c024817cbfd",
   "metadata": {},
   "outputs": [
    {
     "data": {
      "text/plain": [
       "(array([[1, 1],\n",
       "        [0, 1]]),\n",
       " array([[2, 0],\n",
       "        [3, 4]]))"
      ]
     },
     "execution_count": 82,
     "metadata": {},
     "output_type": "execute_result"
    }
   ],
   "source": [
    "A = np.array([[1,1],[0,1]])\n",
    "B = np.array([[2,0],[3,4]])\n",
    "A,B"
   ]
  },
  {
   "cell_type": "code",
   "execution_count": 83,
   "id": "cecb91ba-9212-41ae-86fa-bb8324d1ce53",
   "metadata": {},
   "outputs": [
    {
     "data": {
      "text/plain": [
       "array([[2, 0],\n",
       "       [0, 4]])"
      ]
     },
     "execution_count": 83,
     "metadata": {},
     "output_type": "execute_result"
    }
   ],
   "source": [
    "A*B"
   ]
  },
  {
   "cell_type": "code",
   "execution_count": 84,
   "id": "92b6b50e-12d5-4560-b2e0-97937b812c44",
   "metadata": {},
   "outputs": [
    {
     "data": {
      "text/plain": [
       "array([[5, 4],\n",
       "       [3, 4]])"
      ]
     },
     "execution_count": 84,
     "metadata": {},
     "output_type": "execute_result"
    }
   ],
   "source": [
    "A.dot(B)"
   ]
  },
  {
   "cell_type": "code",
   "execution_count": 85,
   "id": "428d3662-332a-4740-b2a3-4ed294c2f2c2",
   "metadata": {},
   "outputs": [
    {
     "data": {
      "text/plain": [
       "array([[ 1., -1.],\n",
       "       [ 0.,  1.]])"
      ]
     },
     "execution_count": 85,
     "metadata": {},
     "output_type": "execute_result"
    }
   ],
   "source": [
    "np.linalg.inv(A) # 逆"
   ]
  },
  {
   "cell_type": "code",
   "execution_count": 86,
   "id": "da1c4977-2713-462d-9442-0858acb1e803",
   "metadata": {},
   "outputs": [
    {
     "data": {
      "text/plain": [
       "1.0"
      ]
     },
     "execution_count": 86,
     "metadata": {},
     "output_type": "execute_result"
    }
   ],
   "source": [
    "np.linalg.det(A) # 行列式"
   ]
  },
  {
   "cell_type": "markdown",
   "id": "729322ec-232e-458d-a378-6195a1b8d503",
   "metadata": {},
   "source": [
    "### 维度变换"
   ]
  },
  {
   "cell_type": "code",
   "execution_count": 87,
   "id": "efc174a6-7875-42f5-8e54-570d96d82efe",
   "metadata": {},
   "outputs": [
    {
     "data": {
      "text/plain": [
       "array([[3., 4., 0., 9.],\n",
       "       [0., 6., 9., 5.],\n",
       "       [6., 4., 7., 4.]])"
      ]
     },
     "execution_count": 87,
     "metadata": {},
     "output_type": "execute_result"
    }
   ],
   "source": [
    "a = np.floor(10*np.random.random((3,4)))\n",
    "a"
   ]
  },
  {
   "cell_type": "code",
   "execution_count": 88,
   "id": "be15d19d-e44e-47a2-930f-e063d57cff98",
   "metadata": {},
   "outputs": [
    {
     "data": {
      "text/plain": [
       "(3, 4)"
      ]
     },
     "execution_count": 88,
     "metadata": {},
     "output_type": "execute_result"
    }
   ],
   "source": [
    "a.shape"
   ]
  },
  {
   "cell_type": "code",
   "execution_count": 89,
   "id": "446667b7-54c4-492c-b85a-719ab48f28e4",
   "metadata": {},
   "outputs": [
    {
     "data": {
      "text/plain": [
       "array([3., 4., 0., 9., 0., 6., 9., 5., 6., 4., 7., 4.])"
      ]
     },
     "execution_count": 89,
     "metadata": {},
     "output_type": "execute_result"
    }
   ],
   "source": [
    "a.ravel() # 数组展平"
   ]
  },
  {
   "cell_type": "code",
   "execution_count": 90,
   "id": "aae8eb04-5853-4737-a9af-780e6be380b7",
   "metadata": {},
   "outputs": [
    {
     "data": {
      "text/plain": [
       "array([[3., 0., 6.],\n",
       "       [4., 6., 4.],\n",
       "       [0., 9., 7.],\n",
       "       [9., 5., 4.]])"
      ]
     },
     "execution_count": 90,
     "metadata": {},
     "output_type": "execute_result"
    }
   ],
   "source": [
    "a.T"
   ]
  },
  {
   "cell_type": "code",
   "execution_count": 91,
   "id": "73b7afaf-227d-456f-af48-34beed552777",
   "metadata": {},
   "outputs": [
    {
     "data": {
      "text/plain": [
       "(4, 3)"
      ]
     },
     "execution_count": 91,
     "metadata": {},
     "output_type": "execute_result"
    }
   ],
   "source": [
    "a.T.shape"
   ]
  },
  {
   "cell_type": "code",
   "execution_count": 92,
   "id": "8d30e733-2216-47d0-ade6-c1e1e39c1f99",
   "metadata": {},
   "outputs": [
    {
     "data": {
      "text/plain": [
       "array([[3., 4., 0., 9.],\n",
       "       [0., 6., 9., 5.],\n",
       "       [6., 4., 7., 4.]])"
      ]
     },
     "execution_count": 92,
     "metadata": {},
     "output_type": "execute_result"
    }
   ],
   "source": [
    "a.reshape(3,-1)"
   ]
  },
  {
   "cell_type": "markdown",
   "id": "3b6518e9-857f-47a4-8fd8-78ff5050e84e",
   "metadata": {},
   "source": [
    "### 合并切分"
   ]
  },
  {
   "cell_type": "code",
   "execution_count": 98,
   "id": "8731ea1c-1bfc-49fc-a4b0-765d0a65d1cd",
   "metadata": {},
   "outputs": [
    {
     "data": {
      "text/plain": [
       "(array([[1, 1],\n",
       "        [0, 1]]),\n",
       " array([[2, 0],\n",
       "        [3, 4]]))"
      ]
     },
     "execution_count": 98,
     "metadata": {},
     "output_type": "execute_result"
    }
   ],
   "source": [
    "A,B"
   ]
  },
  {
   "cell_type": "code",
   "execution_count": 93,
   "id": "330b31da-c25a-4209-b908-be28339aee14",
   "metadata": {},
   "outputs": [
    {
     "data": {
      "text/plain": [
       "array([[1, 1, 2, 0],\n",
       "       [0, 1, 3, 4]])"
      ]
     },
     "execution_count": 93,
     "metadata": {},
     "output_type": "execute_result"
    }
   ],
   "source": [
    "np.hstack((A,B))"
   ]
  },
  {
   "cell_type": "code",
   "execution_count": 94,
   "id": "e6cddf6c-44aa-4148-87fc-f0573cad8fd3",
   "metadata": {},
   "outputs": [
    {
     "data": {
      "text/plain": [
       "array([[1, 1],\n",
       "       [0, 1],\n",
       "       [2, 0],\n",
       "       [3, 4]])"
      ]
     },
     "execution_count": 94,
     "metadata": {},
     "output_type": "execute_result"
    }
   ],
   "source": [
    "np.vstack((A,B))"
   ]
  },
  {
   "cell_type": "code",
   "execution_count": 95,
   "id": "d0803f98-72b3-4829-aa5c-cd3f2bcb3e82",
   "metadata": {},
   "outputs": [],
   "source": [
    "C = np.arange(16.0).reshape(4,4)"
   ]
  },
  {
   "cell_type": "code",
   "execution_count": 96,
   "id": "ecace927-dbe6-4c7a-b852-55a07783a230",
   "metadata": {},
   "outputs": [
    {
     "data": {
      "text/plain": [
       "[array([[ 0.,  1.],\n",
       "        [ 4.,  5.],\n",
       "        [ 8.,  9.],\n",
       "        [12., 13.]]),\n",
       " array([[ 2.,  3.],\n",
       "        [ 6.,  7.],\n",
       "        [10., 11.],\n",
       "        [14., 15.]])]"
      ]
     },
     "execution_count": 96,
     "metadata": {},
     "output_type": "execute_result"
    }
   ],
   "source": [
    "np.hsplit(C,2)"
   ]
  },
  {
   "cell_type": "code",
   "execution_count": 97,
   "id": "b01cc5bb-9023-4559-aed8-bb20a8cb3083",
   "metadata": {},
   "outputs": [
    {
     "data": {
      "text/plain": [
       "[array([[0., 1., 2., 3.],\n",
       "        [4., 5., 6., 7.]]),\n",
       " array([[ 8.,  9., 10., 11.],\n",
       "        [12., 13., 14., 15.]])]"
      ]
     },
     "execution_count": 97,
     "metadata": {},
     "output_type": "execute_result"
    }
   ],
   "source": [
    "np.vsplit(C,2)"
   ]
  }
 ],
 "metadata": {
  "kernelspec": {
   "display_name": "Python 3 (ipykernel)",
   "language": "python",
   "name": "python3"
  },
  "language_info": {
   "codemirror_mode": {
    "name": "ipython",
    "version": 3
   },
   "file_extension": ".py",
   "mimetype": "text/x-python",
   "name": "python",
   "nbconvert_exporter": "python",
   "pygments_lexer": "ipython3",
   "version": "3.11.4"
  }
 },
 "nbformat": 4,
 "nbformat_minor": 5
}
